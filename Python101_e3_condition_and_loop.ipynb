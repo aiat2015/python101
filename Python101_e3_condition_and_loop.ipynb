{
  "nbformat": 4,
  "nbformat_minor": 0,
  "metadata": {
    "colab": {
      "name": "Python101_e3-condition-and-loop.ipynb",
      "version": "0.3.2",
      "provenance": [],
      "include_colab_link": true
    },
    "kernelspec": {
      "name": "python3",
      "display_name": "Python 3"
    }
  },
  "cells": [
    {
      "cell_type": "markdown",
      "metadata": {
        "id": "view-in-github",
        "colab_type": "text"
      },
      "source": [
        "[View in Colaboratory](https://colab.research.google.com/github/tchayintr/python101/blob/master/Python101_e3_condition_and_loop.ipynb)"
      ]
    },
    {
      "metadata": {
        "id": "E27s793oYvcc",
        "colab_type": "text"
      },
      "cell_type": "markdown",
      "source": [
        "# **Python101: Exercise 3 - Condition and Loop**\n",
        "\n",
        "**E3.1: GPA calculation using conditions**\n",
        "\n",
        "GPA criteria: \n",
        "+ A: 90-100\n",
        "+ B: 80-89\n",
        "+ C: 70-79\n",
        "+ D: 60-69\n",
        "+ F: 0-59\n",
        "\n",
        "Note:\n",
        "+ รับคะแนนจากคีย์บอร์ด\n",
        "+ คิดเกรดด้วยฟังก์ชั่น gpa_calculator()\n",
        "+ คืนค่า gpa แล้วทำการแสดงผลของเกรดบนหน้าจอ"
      ]
    },
    {
      "metadata": {
        "id": "zJWs_p-bbt7g",
        "colab_type": "code",
        "colab": {}
      },
      "cell_type": "code",
      "source": [
        "# Begin your code here\n",
        "def gpa_calculator():\n",
        "  return \n",
        "\n",
        "if __name__ == '__main__':\n",
        "  pass\n",
        "\n",
        "# End your code here"
      ],
      "execution_count": 0,
      "outputs": []
    },
    {
      "metadata": {
        "id": "qWP_hry03LOH",
        "colab_type": "text"
      },
      "cell_type": "markdown",
      "source": [
        "**E3.2: Build your own condition and loop **"
      ]
    },
    {
      "metadata": {
        "id": "IVgb0EBk3JUX",
        "colab_type": "code",
        "colab": {}
      },
      "cell_type": "code",
      "source": [
        "def f():\n",
        "  pass\n",
        "\n",
        "if __name__ : \"__main__\":\n",
        "    pass"
      ],
      "execution_count": 0,
      "outputs": []
    },
    {
      "metadata": {
        "id": "4XnMnxXybhgR",
        "colab_type": "text"
      },
      "cell_type": "markdown",
      "source": [
        "**E3.3: Factorial calculation using loop (BONUS)** \n",
        "\n",
        "**n! = n \\* (n-1) \\* (n-2) \\* ... \\* 1**\n",
        "\n",
        "Note:\n",
        "+ รับค่าตัวเลขที่ต้องการหา Factorial จากคีย์บอร์ด\n",
        "+ หาค่า Factorial โดยการใช้ลูป\n",
        "+ คืนค่าจากฟังก์ชั่น factorial พร้อมแสดงผลออกทางหน้าจอ\n",
        "\n",
        "**OR** Implement your own algorithm."
      ]
    },
    {
      "metadata": {
        "id": "Ws4PJGp6YzpX",
        "colab_type": "code",
        "colab": {
          "base_uri": "https://localhost:8080/",
          "height": 51
        },
        "outputId": "3dd79e2a-3bea-481d-dd1e-fcff37801dd9"
      },
      "cell_type": "code",
      "source": [
        "def factorial(number):\n",
        "  result = 1\n",
        "  \n",
        "  # looping towrds the number variable reversely\n",
        "  for num in reversed(range(number+1)):\n",
        "    if num != 0:\n",
        "      result = result * num\n",
        "  return result\n",
        "  \n",
        "\n",
        "n = int(input(\"Enter a number: \"))\n",
        "\n",
        "n_fact = factorial(n)\n",
        "print(\"Factorial({}) is {}.\".format(n, n_fact))\n",
        "  "
      ],
      "execution_count": 13,
      "outputs": [
        {
          "output_type": "stream",
          "text": [
            "Enter a number: 10\n",
            "Factorial(10) is 3628800.\n"
          ],
          "name": "stdout"
        }
      ]
    }
  ]
}