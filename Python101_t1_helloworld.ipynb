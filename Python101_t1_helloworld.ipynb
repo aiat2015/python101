{
  "nbformat": 4,
  "nbformat_minor": 0,
  "metadata": {
    "colab": {
      "name": "Python101_t1-helloworld.ipynb",
      "version": "0.3.2",
      "provenance": [],
      "include_colab_link": true
    },
    "kernelspec": {
      "name": "python3",
      "display_name": "Python 3"
    }
  },
  "cells": [
    {
      "cell_type": "markdown",
      "metadata": {
        "id": "view-in-github",
        "colab_type": "text"
      },
      "source": [
        "[View in Colaboratory](https://colab.research.google.com/github/tchayintr/python101/blob/master/Python101_t1_helloworld.ipynb)"
      ]
    },
    {
      "metadata": {
        "id": "E27s793oYvcc",
        "colab_type": "text"
      },
      "cell_type": "markdown",
      "source": [
        "# **Welcome to Python101!**\n",
        "***Tutorial 1 (T1)***\n",
        "\n",
        "Let's see what we can do with Python.\n"
      ]
    },
    {
      "metadata": {
        "id": "SrolpQ9kZ1aA",
        "colab_type": "text"
      },
      "cell_type": "markdown",
      "source": [
        "# **Let's PRINT!**"
      ]
    },
    {
      "metadata": {
        "id": "Ws4PJGp6YzpX",
        "colab_type": "code",
        "colab": {
          "base_uri": "https://localhost:8080/",
          "height": 34
        },
        "outputId": "1f8aabe4-a020-4679-fa1f-4e6c99d47caa"
      },
      "cell_type": "code",
      "source": [
        "print(\"Hello, world.\")"
      ],
      "execution_count": 1,
      "outputs": [
        {
          "output_type": "stream",
          "text": [
            "Hello, world\n"
          ],
          "name": "stdout"
        }
      ]
    },
    {
      "metadata": {
        "id": "V1qbFpypZ9PO",
        "colab_type": "code",
        "colab": {
          "base_uri": "https://localhost:8080/",
          "height": 34
        },
        "outputId": "46cf95ad-306f-4675-8cb3-36f8cc3b1011"
      },
      "cell_type": "code",
      "source": [
        "print(\"Hello, %s.\" % (\"Python101\"))"
      ],
      "execution_count": 4,
      "outputs": [
        {
          "output_type": "stream",
          "text": [
            "Hello, python101\n"
          ],
          "name": "stdout"
        }
      ]
    },
    {
      "metadata": {
        "id": "YIBTpKdFanMF",
        "colab_type": "code",
        "colab": {
          "base_uri": "https://localhost:8080/",
          "height": 34
        },
        "outputId": "ba102aae-7baa-4c77-e75b-9b57dee33462"
      },
      "cell_type": "code",
      "source": [
        "print(\"Hello, {}.\".format(\"AIAT\"))"
      ],
      "execution_count": 11,
      "outputs": [
        {
          "output_type": "stream",
          "text": [
            "Hello, AIAT.\n"
          ],
          "name": "stdout"
        }
      ]
    },
    {
      "metadata": {
        "id": "FIw1k4gpdkZC",
        "colab_type": "code",
        "colab": {
          "base_uri": "https://localhost:8080/",
          "height": 34
        },
        "outputId": "4c8a2150-36ea-4e9d-cb8b-4ee9a84aaf21"
      },
      "cell_type": "code",
      "source": [
        "print(\"Hello,\", \"Thailand.\")"
      ],
      "execution_count": 17,
      "outputs": [
        {
          "output_type": "stream",
          "text": [
            "Hello, Thailand\n"
          ],
          "name": "stdout"
        }
      ]
    },
    {
      "metadata": {
        "id": "HOJNMg5yZ5Ls",
        "colab_type": "text"
      },
      "cell_type": "markdown",
      "source": [
        "# **Let's do the MATH!**\n",
        "\n",
        "Numbers and Math\n",
        "\n",
        "+ \\+ (plus)\n",
        "\n",
        "+ \\- (minus)\n",
        "\n",
        "+ / (slash)\n",
        "\n",
        "+ \\* (asterisk)\n",
        "\n",
        "+ % (percent)\n",
        "\n",
        "+ ** (exponential)\n",
        "\n",
        "+ < (less-than)\n",
        "\n",
        "+ \\> (greater-than)\n",
        "\n",
        "+ <= (less-than-equal)\n",
        "\n",
        "+ \\>= (greater-than-equal)\n"
      ]
    },
    {
      "metadata": {
        "id": "x5uj3XcNbbBJ",
        "colab_type": "code",
        "colab": {
          "base_uri": "https://localhost:8080/",
          "height": 34
        },
        "outputId": "5550f07b-af8d-473a-c044-2c13cc85da4b"
      },
      "cell_type": "code",
      "source": [
        "2**(1/2)"
      ],
      "execution_count": 12,
      "outputs": [
        {
          "output_type": "execute_result",
          "data": {
            "text/plain": [
              "1.4142135623730951"
            ]
          },
          "metadata": {
            "tags": []
          },
          "execution_count": 12
        }
      ]
    },
    {
      "metadata": {
        "id": "_ZLzoTIjbpWS",
        "colab_type": "code",
        "colab": {
          "base_uri": "https://localhost:8080/",
          "height": 34
        },
        "outputId": "104aed00-5e48-457a-8f6d-7b325ae4cf5e"
      },
      "cell_type": "code",
      "source": [
        "import math\n",
        "print(math.sqrt(2))"
      ],
      "execution_count": 10,
      "outputs": [
        {
          "output_type": "stream",
          "text": [
            "1.4142135623730951\n"
          ],
          "name": "stdout"
        }
      ]
    },
    {
      "metadata": {
        "id": "_vgs-5HudEx1",
        "colab_type": "text"
      },
      "cell_type": "markdown",
      "source": [
        "# **Let's get the INPUT!**"
      ]
    },
    {
      "metadata": {
        "id": "Wx8CVJepdHDw",
        "colab_type": "code",
        "colab": {
          "base_uri": "https://localhost:8080/",
          "height": 60
        },
        "outputId": "d5ae5f49-6a37-4532-9a47-e0ba80f98c14"
      },
      "cell_type": "code",
      "source": [
        "user_input = input(\"Could you give me some input: \")\n",
        "print(\"The input is: \", user_input)"
      ],
      "execution_count": 18,
      "outputs": [
        {
          "output_type": "stream",
          "text": [
            "Could you give me some input: aaa\n",
            "The input is:  aaa\n"
          ],
          "name": "stdout"
        }
      ]
    },
    {
      "metadata": {
        "id": "e9dyqON_eicy",
        "colab_type": "text"
      },
      "cell_type": "markdown",
      "source": [
        "# **Let's COMMENT our code!**\n",
        "\n",
        "We normally use # (a sharp symbol) to comment a line of code."
      ]
    },
    {
      "metadata": {
        "id": "40M2hHJDeosW",
        "colab_type": "code",
        "colab": {
          "base_uri": "https://localhost:8080/",
          "height": 34
        },
        "outputId": "c3191faa-4410-4ed7-b753-6f734663e517"
      },
      "cell_type": "code",
      "source": [
        "# a comment line\n",
        "# print(\"You cannot see me. hehe\")\n",
        "print(\"You can see me.\")"
      ],
      "execution_count": 20,
      "outputs": [
        {
          "output_type": "stream",
          "text": [
            "You can see me.\n"
          ],
          "name": "stdout"
        }
      ]
    }
  ]
}