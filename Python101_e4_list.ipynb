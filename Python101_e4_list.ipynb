{
  "nbformat": 4,
  "nbformat_minor": 0,
  "metadata": {
    "colab": {
      "name": "Python101_e4-list.ipynb",
      "version": "0.3.2",
      "provenance": [],
      "include_colab_link": true
    },
    "kernelspec": {
      "name": "python3",
      "display_name": "Python 3"
    }
  },
  "cells": [
    {
      "cell_type": "markdown",
      "metadata": {
        "id": "view-in-github",
        "colab_type": "text"
      },
      "source": [
        "[View in Colaboratory](https://colab.research.google.com/github/tchayintr/python101/blob/master/Python101_e4_list.ipynb)"
      ]
    },
    {
      "metadata": {
        "id": "E27s793oYvcc",
        "colab_type": "text"
      },
      "cell_type": "markdown",
      "source": [
        "# **Python101: Exercise 4 - List**\n",
        "\n",
        "**E4.1: Average of scores calculation using conditions, loops, and list**\n",
        "\n",
        "หาค่าเฉลี่ยของตัวเลขในลิสต์\n",
        "\n",
        "Note:\n",
        "+ รับตัวเลขจากคีย์บอร์ด \n",
        "+ ทำการเพิ่มตัวเลขลงลิสต์ \n",
        "* รับตัวเลขไปเรื่อยๆจนกว่าจะพิมพ์ \"Q\" หรือ \"q\" เพื่อหยุด\n",
        "+ คิดค่าเฉลี่ยของลิสต์ตัวเลขด้วยฟังก์ชั่น avg_estimator()\n",
        "+ คืนค่าเฉลี่ย แล้วทำการแสดงผลบนหน้าจอ"
      ]
    },
    {
      "metadata": {
        "id": "zJWs_p-bbt7g",
        "colab_type": "code",
        "colab": {}
      },
      "cell_type": "code",
      "source": [
        "def avg_estimator(numbers):\n",
        "  sum_num = 0\n",
        "  for number in numbers:\n",
        "    sum_num = sum_num + number\n",
        "  \n",
        "  avg_num = sum_num / len(numbers)\n",
        "  \n",
        "  return avg_num\n",
        "\n",
        "if __name__ == '__main__':\n",
        "  numbers = []\n",
        "  while(True):\n",
        "    number = input(\"Enter a number: \")\n",
        "    \n",
        "    if number.lower() == 'q':\n",
        "      break\n",
        "    else:\n",
        "      number = int(number)\n",
        "      numbers.append(number)\n",
        "  \n",
        "  avg = avg_estimator(numbers)\n",
        "  print(\"AVG:\", avg)"
      ],
      "execution_count": 0,
      "outputs": []
    },
    {
      "metadata": {
        "id": "qWP_hry03LOH",
        "colab_type": "text"
      },
      "cell_type": "markdown",
      "source": [
        "***E4.2: It's your choice (AGAIN!!)***\n",
        "\n",
        "Sovle your problem using list"
      ]
    },
    {
      "metadata": {
        "id": "IVgb0EBk3JUX",
        "colab_type": "code",
        "colab": {}
      },
      "cell_type": "code",
      "source": [
        "if __name__ : \"__main__\":\n",
        "    pass"
      ],
      "execution_count": 0,
      "outputs": []
    }
  ]
}