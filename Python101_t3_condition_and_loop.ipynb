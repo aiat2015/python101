{
  "nbformat": 4,
  "nbformat_minor": 0,
  "metadata": {
    "colab": {
      "name": "Python101_t3-condition-and-loop.ipynb",
      "version": "0.3.2",
      "provenance": [],
      "collapsed_sections": [],
      "include_colab_link": true
    },
    "kernelspec": {
      "name": "python3",
      "display_name": "Python 3"
    }
  },
  "cells": [
    {
      "cell_type": "markdown",
      "metadata": {
        "id": "view-in-github",
        "colab_type": "text"
      },
      "source": [
        "[View in Colaboratory](https://colab.research.google.com/github/tchayintr/python101/blob/master/Python101_t3_condition_and_loop.ipynb)"
      ]
    },
    {
      "metadata": {
        "id": "E27s793oYvcc",
        "colab_type": "text"
      },
      "cell_type": "markdown",
      "source": [
        "# **Python101: Tutorial 3 - Condition and Loop**\n",
        "***Tutorial 3 (T3)***\n",
        "\n"
      ]
    },
    {
      "metadata": {
        "id": "f7y-R2QkqPBp",
        "colab_type": "text"
      },
      "cell_type": "markdown",
      "source": [
        "# **Conditioning!**\n",
        "\n",
        "**Type of numbers**\n"
      ]
    },
    {
      "metadata": {
        "id": "zJWs_p-bbt7g",
        "colab_type": "code",
        "colab": {}
      },
      "cell_type": "code",
      "source": [
        "number = input(\"Enter a number: \")\n",
        "\n",
        "number = int(number)\n",
        "\n",
        "if number > 0:\n",
        "  print(number, \"is a positive number.\")\n",
        "elif number < 0:\n",
        "  print(number, \"is a negative number.\")\n",
        "else:\n",
        "  print(number, \"is zero.\")"
      ],
      "execution_count": 0,
      "outputs": []
    },
    {
      "metadata": {
        "id": "4XnMnxXybhgR",
        "colab_type": "text"
      },
      "cell_type": "markdown",
      "source": [
        "**Responding to verified user**"
      ]
    },
    {
      "metadata": {
        "id": "Ws4PJGp6YzpX",
        "colab_type": "code",
        "colab": {}
      },
      "cell_type": "code",
      "source": [
        "if __name__ == '__main__':\n",
        "  username = input(\"Enter your username: \")\n",
        "  \n",
        "  if username == \"admin\":\n",
        "    print(\"Hello, admin.\")\n",
        "  elif username == \"support\":\n",
        "    print(\"Hello, support.\")\n",
        "  else:\n",
        "    print(username, \"is not found.\")"
      ],
      "execution_count": 0,
      "outputs": []
    },
    {
      "metadata": {
        "id": "wHyW0HeLV8r6",
        "colab_type": "text"
      },
      "cell_type": "markdown",
      "source": [
        "**Asking again if the username is not found.**"
      ]
    },
    {
      "metadata": {
        "id": "Ll9hi7R5Pj-7",
        "colab_type": "code",
        "colab": {}
      },
      "cell_type": "code",
      "source": [
        "if __name__ == '__main__':\n",
        "  username = input(\"Enter your username: \")\n",
        "  \n",
        "  if username == \"admin\":\n",
        "    print(\"Hello, admin.\")\n",
        "  elif username == \"support\":\n",
        "    print(\"Hello, support.\")\n",
        "  else:\n",
        "    print(username, \"is not found.\")\n",
        "    username = input(\"Enter your username: \")\n",
        "    if username == \"admin\":\n",
        "      print(\"Hello, admin.\")\n",
        "    elif username == \"support\":\n",
        "      print(\"Hello, support.\")\n",
        "    else:\n",
        "      print(username, \"is not found.\")"
      ],
      "execution_count": 0,
      "outputs": []
    },
    {
      "metadata": {
        "id": "HOJNMg5yZ5Ls",
        "colab_type": "text"
      },
      "cell_type": "markdown",
      "source": [
        "# **Looping!!**\n",
        "\n",
        "# Non-deterministic range \n",
        "\n",
        "**while loop**"
      ]
    },
    {
      "metadata": {
        "id": "x5uj3XcNbbBJ",
        "colab_type": "code",
        "colab": {}
      },
      "cell_type": "code",
      "source": [
        "if __name__ == '__main__':\n",
        "  # looping until break\n",
        "  while(True):\n",
        "    username = input(\"Enter your username: \")\n",
        "    if username == \"admin\":\n",
        "      print(\"Hello, admin.\")\n",
        "      break\n",
        "    elif username == \"support\":\n",
        "      print(\"Hello, support.\")\n",
        "      break\n",
        "    else:\n",
        "      print(username, \"is not found.\")"
      ],
      "execution_count": 0,
      "outputs": []
    },
    {
      "metadata": {
        "id": "6PT0T2NOdIq5",
        "colab_type": "text"
      },
      "cell_type": "markdown",
      "source": [
        "# **Deterministic range **\n",
        "\n",
        "**for loop**"
      ]
    },
    {
      "metadata": {
        "id": "3dsSmQhNPZWr",
        "colab_type": "code",
        "colab": {}
      },
      "cell_type": "code",
      "source": [
        "for x in range(10):\n",
        "  print(x)"
      ],
      "execution_count": 0,
      "outputs": []
    },
    {
      "metadata": {
        "id": "GUj3_ctwOtzo",
        "colab_type": "text"
      },
      "cell_type": "markdown",
      "source": [
        "# **Factorial calculation using loop (BONUS)** \n",
        "\n",
        "**n! = n \\* (n-1) \\* (n-2) \\* ... \\* 1**\n",
        "\n",
        "Note:\n",
        "+ รับค่าตัวเลขที่ต้องการหา Factorial จากคีย์บอร์ด\n",
        "+ หาค่า Factorial โดยการใช้ลูป\n",
        "+ คืนค่าจากฟังก์ชั่น factorial พร้อมแสดงผลออกทางหน้าจอ\n"
      ]
    },
    {
      "metadata": {
        "id": "PJ046_7rOt6e",
        "colab_type": "code",
        "colab": {}
      },
      "cell_type": "code",
      "source": [
        "def factorial(number):\n",
        "  result = 1\n",
        "  \n",
        "  # looping towrds the number variable reversely\n",
        "  for num in reversed(range(number+1)):\n",
        "    if num != 0:\n",
        "      result = result * num\n",
        "  return result\n",
        "  \n",
        "\n",
        "n = int(input(\"Enter a number: \"))\n",
        "\n",
        "n_fact = factorial(n)\n",
        "print(\"Factorial({}) is {}.\".format(n, n_fact))"
      ],
      "execution_count": 0,
      "outputs": []
    }
  ]
}