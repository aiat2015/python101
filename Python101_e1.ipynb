{
  "nbformat": 4,
  "nbformat_minor": 0,
  "metadata": {
    "colab": {
      "name": "Python101_e1.ipynb",
      "version": "0.3.2",
      "provenance": [],
      "include_colab_link": true
    },
    "kernelspec": {
      "name": "python3",
      "display_name": "Python 3"
    }
  },
  "cells": [
    {
      "cell_type": "markdown",
      "metadata": {
        "id": "view-in-github",
        "colab_type": "text"
      },
      "source": [
        "[View in Colaboratory](https://colab.research.google.com/github/tchayintr/python101/blob/master/Python101_e1.ipynb)"
      ]
    },
    {
      "metadata": {
        "id": "wq5jqj1sepVA",
        "colab_type": "text"
      },
      "cell_type": "markdown",
      "source": [
        "# **Python101: Exercise 1**\n",
        "*E1.1: prompting yourself*\n",
        "\n",
        "Asking yourself as listed below then printing out:\n",
        "\n",
        "+ First name \n",
        "+ Last name\n",
        "+ Hobbies\n",
        "+ Why Python?\n",
        "\n"
      ]
    },
    {
      "metadata": {
        "id": "KqUMBZ5ceB_S",
        "colab_type": "code",
        "colab": {}
      },
      "cell_type": "code",
      "source": [
        "firstname = input(\"My firstname: \")\n",
        "# Begin your code here\n",
        "# lastname = None\n",
        "# hobby = None\n",
        "# why_python = None\n",
        "# End your code here\n",
        "\n",
        "print(\"Firstname:\", firstname)\n",
        "print(\"Lastname:\", lastname)\n",
        "print(\"hobby:\", hobby)\n",
        "print(\"Why you want to learn Python:\", why_python)"
      ],
      "execution_count": 0,
      "outputs": []
    },
    {
      "metadata": {
        "id": "Ew927OPlf7OU",
        "colab_type": "text"
      },
      "cell_type": "markdown",
      "source": [
        "*E1.2: Solve the problem using Pythagorean Theorem*\n",
        "\n",
        "\n",
        "*c^2 = a^2 + b^2*\n",
        "\n",
        "Find c\n",
        "\n",
        "![alt text](https://www.mathplanet.com/Oldsite/media/43198/triangle10.png)\n"
      ]
    },
    {
      "metadata": {
        "id": "H6Kbp9tYlFGc",
        "colab_type": "code",
        "colab": {}
      },
      "cell_type": "code",
      "source": [
        "\n",
        "# begin your code here\n",
        "\n",
        "# end your code here\n",
        "print(\"c:\", c)"
      ],
      "execution_count": 0,
      "outputs": []
    }
  ]
}