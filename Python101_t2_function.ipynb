{
  "nbformat": 4,
  "nbformat_minor": 0,
  "metadata": {
    "colab": {
      "name": "Python101_t2-function.ipynb",
      "version": "0.3.2",
      "provenance": [],
      "include_colab_link": true
    },
    "kernelspec": {
      "name": "python3",
      "display_name": "Python 3"
    }
  },
  "cells": [
    {
      "cell_type": "markdown",
      "metadata": {
        "id": "view-in-github",
        "colab_type": "text"
      },
      "source": [
        "[View in Colaboratory](https://colab.research.google.com/github/tchayintr/python101/blob/master/Python101_t2_function.ipynb)"
      ]
    },
    {
      "metadata": {
        "id": "E27s793oYvcc",
        "colab_type": "text"
      },
      "cell_type": "markdown",
      "source": [
        "# **Python101: Function**\n",
        "***Tutorial 2 (T2)***\n",
        "\n"
      ]
    },
    {
      "metadata": {
        "id": "f7y-R2QkqPBp",
        "colab_type": "text"
      },
      "cell_type": "markdown",
      "source": [
        "# **Printing!!**"
      ]
    },
    {
      "metadata": {
        "id": "Ws4PJGp6YzpX",
        "colab_type": "code",
        "colab": {}
      },
      "cell_type": "code",
      "source": [
        "def print_hello():\n",
        "  print(\"Hello, function.\")"
      ],
      "execution_count": 0,
      "outputs": []
    },
    {
      "metadata": {
        "id": "V1qbFpypZ9PO",
        "colab_type": "code",
        "colab": {}
      },
      "cell_type": "code",
      "source": [
        "def print_hello():\n",
        "  print(\"Hello, function.\")\n",
        "  \n",
        "print_hello()"
      ],
      "execution_count": 0,
      "outputs": []
    },
    {
      "metadata": {
        "id": "YIBTpKdFanMF",
        "colab_type": "code",
        "colab": {}
      },
      "cell_type": "code",
      "source": [
        "def say_hello(name):\n",
        "  '''\n",
        "  say hello to user\n",
        "  '''\n",
        "  print(\"Hello, \", name)\n",
        "  \n",
        "myname = \"AIAT\"  \n",
        "say_hello(myname)"
      ],
      "execution_count": 0,
      "outputs": []
    },
    {
      "metadata": {
        "id": "HOJNMg5yZ5Ls",
        "colab_type": "text"
      },
      "cell_type": "markdown",
      "source": [
        "# **Calculation!!**\n",
        "BMI (Body Mass Index) calculation\n",
        "\n",
        "**BMI = kg/m^2**\n",
        "\n",
        "\n",
        "![BMI Chart](http://www.bangpakokhospital.com/image_upload/ARTICLE-28)"
      ]
    },
    {
      "metadata": {
        "id": "x5uj3XcNbbBJ",
        "colab_type": "code",
        "colab": {}
      },
      "cell_type": "code",
      "source": [
        "def BMI_calculator(weight, height):\n",
        "  '''\n",
        "  Calculate the BMI value\n",
        "  weight: weight in kg.\n",
        "  weight: height in cm.\n",
        "  '''\n",
        "  bmi = weight / (height**2)\n",
        "  # return the calculated value\n",
        "  return bmi\n",
        "\n",
        "\n",
        "weight = input(\"Enter your weight (kg): \")\n",
        "height = input(\"Enter your height (m): \")\n",
        "\n",
        "# convert string to float\n",
        "weight = float(weight)\n",
        "height = float(height)\n",
        "\n",
        "bmi = BMI_calculator(weight, height)\n",
        "\n",
        "print(\"Your BMI is\", bmi)"
      ],
      "execution_count": 0,
      "outputs": []
    }
  ]
}