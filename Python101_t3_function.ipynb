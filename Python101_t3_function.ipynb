{
  "nbformat": 4,
  "nbformat_minor": 0,
  "metadata": {
    "colab": {
      "name": "Python101_t3-function.ipynb",
      "version": "0.3.2",
      "provenance": [],
      "include_colab_link": true
    },
    "kernelspec": {
      "name": "python3",
      "display_name": "Python 3"
    }
  },
  "cells": [
    {
      "cell_type": "markdown",
      "metadata": {
        "id": "view-in-github",
        "colab_type": "text"
      },
      "source": [
        "[View in Colaboratory](https://colab.research.google.com/github/tchayintr/python101/blob/master/Python101_t3_function.ipynb)"
      ]
    },
    {
      "metadata": {
        "id": "E27s793oYvcc",
        "colab_type": "text"
      },
      "cell_type": "markdown",
      "source": [
        "# **Python101: Tutorial 3 - Condition and Loop**\n",
        "***Tutorial 3 (T3)***\n",
        "\n"
      ]
    },
    {
      "metadata": {
        "id": "f7y-R2QkqPBp",
        "colab_type": "text"
      },
      "cell_type": "markdown",
      "source": [
        "# **Conditioning!**\n",
        "\n",
        "**Type of numbers**\n"
      ]
    },
    {
      "metadata": {
        "id": "zJWs_p-bbt7g",
        "colab_type": "code",
        "colab": {}
      },
      "cell_type": "code",
      "source": [
        "number = input(\"Enter a number: \")\n",
        "\n",
        "number = int(number)\n",
        "\n",
        "if number > 0:\n",
        "  print(number, \"is a positive number.\")\n",
        "elif number < 0:\n",
        "  print(number, \"is a negative number.\")\n",
        "else:\n",
        "  print(number, \"is zero.\")"
      ],
      "execution_count": 0,
      "outputs": []
    },
    {
      "metadata": {
        "id": "4XnMnxXybhgR",
        "colab_type": "text"
      },
      "cell_type": "markdown",
      "source": [
        "**Responding to verified user**"
      ]
    },
    {
      "metadata": {
        "id": "Ws4PJGp6YzpX",
        "colab_type": "code",
        "colab": {
          "base_uri": "https://localhost:8080/",
          "height": 60
        },
        "outputId": "c403ad36-be86-4e7c-ffa1-286d483397b7"
      },
      "cell_type": "code",
      "source": [
        "if __name__ == '__main__':\n",
        "  username = input(\"Enter your username: \")\n",
        "  \n",
        "  if username == \"admin\":\n",
        "    print(\"Hello, admin.\")\n",
        "  elif username == \"support\":\n",
        "    print(\"Hello, support.\")\n",
        "  else:\n",
        "    print(username, \"is not found.\")"
      ],
      "execution_count": 6,
      "outputs": [
        {
          "output_type": "stream",
          "text": [
            "Enter your username: support\n",
            "Hello, support.\n"
          ],
          "name": "stdout"
        }
      ]
    },
    {
      "metadata": {
        "id": "wHyW0HeLV8r6",
        "colab_type": "text"
      },
      "cell_type": "markdown",
      "source": [
        "**Asking again if the username is not found.**"
      ]
    },
    {
      "metadata": {
        "id": "V1qbFpypZ9PO",
        "colab_type": "code",
        "colab": {
          "base_uri": "https://localhost:8080/",
          "height": 94
        },
        "outputId": "beef95b0-b907-4483-ab38-2caf7a86658b"
      },
      "cell_type": "code",
      "source": [
        "if __name__ == '__main__':\n",
        "  username = input(\"Enter your username: \")\n",
        "  \n",
        "  if username == \"admin\":\n",
        "    print(\"Hello, admin.\")\n",
        "  elif username == \"support\":\n",
        "    print(\"Hello, support.\")\n",
        "  else:\n",
        "    print(username, \"is not found.\")\n",
        "    username = input(\"Enter your username: \")\n",
        "    if username == \"admin\":\n",
        "      print(\"Hello, admin.\")\n",
        "    elif username == \"support\":\n",
        "      print(\"Hello, support.\")\n",
        "    else:\n",
        "      print(username, \"is not found.\")"
      ],
      "execution_count": 7,
      "outputs": [
        {
          "output_type": "stream",
          "text": [
            "Enter your username: dd\n",
            "dd is not found.\n",
            "Enter your username: admin\n",
            "Hello, admin.\n"
          ],
          "name": "stdout"
        }
      ]
    },
    {
      "metadata": {
        "id": "HOJNMg5yZ5Ls",
        "colab_type": "text"
      },
      "cell_type": "markdown",
      "source": [
        "# **Looping!!**\n",
        "\n",
        "non-deterministic range \n",
        "\n",
        "**while loop**"
      ]
    },
    {
      "metadata": {
        "id": "x5uj3XcNbbBJ",
        "colab_type": "code",
        "colab": {
          "base_uri": "https://localhost:8080/",
          "height": 128
        },
        "outputId": "d4f7cfd3-5c53-4357-c61f-7a813e32fc7c"
      },
      "cell_type": "code",
      "source": [
        "if __name__ == '__main__':\n",
        "  # looping until break\n",
        "  while(True):\n",
        "    username = input(\"Enter your username: \")\n",
        "    if username == \"admin\":\n",
        "      print(\"Hello, admin.\")\n",
        "      break\n",
        "    elif username == \"support\":\n",
        "      print(\"Hello, support.\")\n",
        "      break\n",
        "    else:\n",
        "      print(username, \"is not found.\")"
      ],
      "execution_count": 11,
      "outputs": [
        {
          "output_type": "stream",
          "text": [
            "Enter your username: ddd\n",
            "ddd is not found.\n",
            "Enter your username: dddd\n",
            "dddd is not found.\n",
            "Enter your username: admin\n",
            "Hello, admin.\n"
          ],
          "name": "stdout"
        }
      ]
    },
    {
      "metadata": {
        "id": "6PT0T2NOdIq5",
        "colab_type": "text"
      },
      "cell_type": "markdown",
      "source": [
        "deterministic range \n",
        "\n",
        "**for loop**"
      ]
    },
    {
      "metadata": {
        "id": "9Altn_aNdI6d",
        "colab_type": "code",
        "colab": {}
      },
      "cell_type": "code",
      "source": [
        "for x in range(10):\n",
        "  print(x)"
      ],
      "execution_count": 0,
      "outputs": []
    },
    {
      "metadata": {
        "id": "jpW8aGs_cWhl",
        "colab_type": "text"
      },
      "cell_type": "markdown",
      "source": [
        "**Let's guess a number!!**"
      ]
    },
    {
      "metadata": {
        "id": "zgWkce0Rckca",
        "colab_type": "code",
        "colab": {
          "base_uri": "https://localhost:8080/",
          "height": 221
        },
        "outputId": "d7ad3445-31bb-4c6b-9004-eda0f08c72c7"
      },
      "cell_type": "code",
      "source": [
        "import random\n",
        "\n",
        "rand_number = random.randint(0,10)\n",
        "#print(rand_number)\n",
        "\n",
        "while(True):\n",
        "  user_guess = int(input(\"Make a guess: \"))\n",
        "\n",
        "  if user_guess < rand_number:\n",
        "    print(user_guess, \"is too less.\")\n",
        "  elif user_guess > rand_number:\n",
        "    print(user_guess, \"is too much.\")\n",
        "  else:\n",
        "    print(user_guess, \"is CORRECT!!\")\n",
        "    break\n",
        "\n"
      ],
      "execution_count": 28,
      "outputs": [
        {
          "output_type": "stream",
          "text": [
            "Make a guess: 10\n",
            "10 is too much.\n",
            "Make a guess: 8\n",
            "8 is too much.\n",
            "Make a guess: 8\n",
            "8 is too much.\n",
            "Make a guess: 5\n",
            "5 is too much.\n",
            "Make a guess: 3\n",
            "3 is too much.\n",
            "Make a guess: 1\n",
            "1 is CORRECT!!\n"
          ],
          "name": "stdout"
        }
      ]
    }
  ]
}