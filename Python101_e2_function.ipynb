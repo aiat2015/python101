{
  "nbformat": 4,
  "nbformat_minor": 0,
  "metadata": {
    "colab": {
      "name": "Python101_e2-function.ipynb",
      "version": "0.3.2",
      "provenance": [],
      "include_colab_link": true
    },
    "kernelspec": {
      "name": "python3",
      "display_name": "Python 3"
    }
  },
  "cells": [
    {
      "cell_type": "markdown",
      "metadata": {
        "id": "view-in-github",
        "colab_type": "text"
      },
      "source": [
        "[View in Colaboratory](https://colab.research.google.com/github/tchayintr/python101/blob/master/Python101_e2_function.ipynb)"
      ]
    },
    {
      "metadata": {
        "id": "E27s793oYvcc",
        "colab_type": "text"
      },
      "cell_type": "markdown",
      "source": [
        "# **Python101: Exercise 2**\n",
        "***E2.1: Solving the problem with you own function***\n",
        "\n",
        "Convert a temparature in fahrenheit to celsius\n",
        "\n",
        "***T(celsius) = T(fahrenheit) - 32 / 1.8  ; where T is temparature***\n",
        "\n",
        "\n",
        "Note:\n",
        "  \n",
        "  + รับอุณหภูมิในรูปแบบองศาฟาร์เรนไฮต์จากคียบอร์ด\n",
        "  + แปลงหน่วยองศาฟาร์เรนไฮต์เป็นหน่วยองศาเซลเซียส โดยการดัดแปลงฟังก์ชั่น ftoc()\n",
        "  + ทำการคืนค่าจาก ftoc() และแสดงผลบนหน้าจอ"
      ]
    },
    {
      "metadata": {
        "id": "Ws4PJGp6YzpX",
        "colab_type": "code",
        "colab": {}
      },
      "cell_type": "code",
      "source": [
        "# Begin your code here\n",
        "def ftoc():\n",
        "  return \n",
        "# End your code here\n",
        "  \n",
        "if __name__ == '__main__': \n",
        "  # Begin your code here\n",
        "  temparature_f = ''\n",
        "  \n",
        "  temparature_c = ftoc()\n",
        "  print(temparature_c)\n",
        "  # End your code here"
      ],
      "execution_count": 0,
      "outputs": []
    },
    {
      "metadata": {
        "id": "HOJNMg5yZ5Ls",
        "colab_type": "text"
      },
      "cell_type": "markdown",
      "source": [
        "***E2.2: It's your choice***\n",
        "\n",
        "Building your function to sovle your problem"
      ]
    },
    {
      "metadata": {
        "id": "x5uj3XcNbbBJ",
        "colab_type": "code",
        "colab": {}
      },
      "cell_type": "code",
      "source": [
        "# Begin your code here\n",
        "def x():\n",
        "  pass\n",
        "\n",
        "if __name__ == \"__main__\":\n",
        "  pass\n",
        "# End your code here"
      ],
      "execution_count": 0,
      "outputs": []
    }
  ]
}