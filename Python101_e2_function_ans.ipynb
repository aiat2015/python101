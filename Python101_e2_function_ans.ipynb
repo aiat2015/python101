{
  "nbformat": 4,
  "nbformat_minor": 0,
  "metadata": {
    "colab": {
      "name": "Python101_e2-function-ans.ipynb",
      "version": "0.3.2",
      "provenance": [],
      "include_colab_link": true
    },
    "kernelspec": {
      "name": "python3",
      "display_name": "Python 3"
    }
  },
  "cells": [
    {
      "cell_type": "markdown",
      "metadata": {
        "id": "view-in-github",
        "colab_type": "text"
      },
      "source": [
        "[View in Colaboratory](https://colab.research.google.com/github/tchayintr/python101/blob/master/Python101_e2_function_ans.ipynb)"
      ]
    },
    {
      "metadata": {
        "id": "E27s793oYvcc",
        "colab_type": "text"
      },
      "cell_type": "markdown",
      "source": [
        "# **Python101: Exercise 2**\n",
        "***E2.1: Solving the problem with your own function***\n",
        "\n",
        "Convert a temparature in fahrenheit to celsius\n",
        "\n",
        "***T(celsius) = (T(fahrenheit) - 32) / 1.8  ; where T is temparature***\n",
        "\n",
        "\n",
        "Note:\n",
        "  \n",
        "  + รับอุณหภูมิในรูปแบบองศาฟาร์เรนไฮต์จากคียบอร์ด\n",
        "  + แปลงหน่วยองศาฟาร์เรนไฮต์เป็นหน่วยองศาเซลเซียส โดยการดัดแปลงฟังก์ชั่น ftoc()\n",
        "  + ทำการคืนค่าจาก ftoc() และแสดงผลบนหน้าจอ"
      ]
    },
    {
      "metadata": {
        "id": "Ws4PJGp6YzpX",
        "colab_type": "code",
        "colab": {
          "base_uri": "https://localhost:8080/",
          "height": 68
        },
        "outputId": "146ba22f-9748-41d7-a4c6-98526eeb9e3b"
      },
      "cell_type": "code",
      "source": [
        "# Begin your code here\n",
        "def ftoc(f):\n",
        "  # แปลงค่าองศาฟาร์เรนไฮต์เป็นองศาเซลเซียส\n",
        "  c = (f - 32) / 1.8\n",
        "  return c\n",
        "# End your code here\n",
        "  \n",
        "if __name__ == '__main__': \n",
        "  # Begin your code here\n",
        "  temparature_f = float(input(\"Enter a temparature (fahrenheit): \"))\n",
        "  temparature_c = ftoc(temparature_f)\n",
        "  print(\"{:0.2f}\".format(temparature_c))\n",
        "  print(\"%.2f\" % temparature_c)\n",
        "  # End your code here"
      ],
      "execution_count": 10,
      "outputs": [
        {
          "output_type": "stream",
          "text": [
            "Enter a temparature (fahrenheit): 90\n",
            "32.22\n",
            "32.22\n"
          ],
          "name": "stdout"
        }
      ]
    },
    {
      "metadata": {
        "id": "HOJNMg5yZ5Ls",
        "colab_type": "text"
      },
      "cell_type": "markdown",
      "source": [
        "***E2.2: It's your choice***\n",
        "\n",
        "Building your function to sovle your problem\n",
        "\n",
        "1, K.นัน, สี --> ความต้านทาน\n",
        "\n",
        "2, K.ยุ้ย, รัศมี --> พื้นที่วงกลม\n",
        "\n",
        "3, K.ตา, ปอนด์ --> กิโลกรัม\n",
        "\n",
        "4, K.ป้อม, ตัวเลข --> ผลบวกอนุกรม\n",
        "\n",
        "5, K.พี, วัตต์ --> แรงม้า\n",
        "\n",
        "6, K.ไอซ์, พื้นที่ของห้อง (กว้าง x ยาว) --> จำนวนคนที่รองรับได้\n",
        "\n",
        "\n"
      ]
    },
    {
      "metadata": {
        "id": "x5uj3XcNbbBJ",
        "colab_type": "code",
        "colab": {
          "base_uri": "https://localhost:8080/",
          "height": 85
        },
        "outputId": "71a1f9e5-db01-416c-becd-8726c29ebe36"
      },
      "cell_type": "code",
      "source": [
        "# K.นัน: สี --> ความต้านทาน\n",
        "\n",
        "def resistor(color1, color2, color3):\n",
        "  '''\n",
        "  \n",
        "  '''\n",
        "  valuex1 = (color1 * 10)\n",
        "  valuex10 = (color2 * 1)\n",
        "  valuex100 = (10**(color3))\n",
        "  value = (valuex1 + valuex10) * valuex100\n",
        "  return value\n",
        "if __name__ == '__main__':\n",
        "  color1 = int(input(\"แถบสีที่ 1: \"))\n",
        "  color2 = int(input(\"แถบสีที่ 2: \"))\n",
        "  color3 = int(input(\"แถบสีที่ 3: \"))\n",
        "  value = resistor(color1, color2, color3)\n",
        "  print(\"Resistor Value: \", value, \"ohm\")\n"
      ],
      "execution_count": 12,
      "outputs": [
        {
          "output_type": "stream",
          "text": [
            "แถบสีที่ 1: 6\n",
            "แถบสีที่ 2: 2\n",
            "แถบสีที่ 3: 3\n",
            "Resistor Value:  62000 ohm\n"
          ],
          "name": "stdout"
        }
      ]
    },
    {
      "metadata": {
        "id": "mFiERbZtwBjT",
        "colab_type": "code",
        "colab": {
          "base_uri": "https://localhost:8080/",
          "height": 68
        },
        "outputId": "b33f6d87-e22b-4a87-cba4-69a3f15984b2"
      },
      "cell_type": "code",
      "source": [
        "# K.ยุ้ย: รัศมี --> พื้นที่วงกลม\n",
        "\n",
        "# Begin your code here\n",
        "#สูตร พื้นที่วงกลม = pi r²\n",
        "import math\n",
        "\n",
        "def Area(r):\n",
        "  pi= math.pi\n",
        "  pi=float(pi)\n",
        "  area = pi*(r**2) \n",
        "  return area\n",
        "# End your code here\n",
        "\n",
        "# Begin Main Program\n",
        "if __name__ == '__main__':\n",
        "  r=float(input(\"กรุณากรอกค่ารัศมี ==> \"))\n",
        "  area = Area(r)\n",
        "  print(\" พื้นที่วงกลม =pi *r^2 \")\n",
        "  print(area,\"=\",math.pi,r,\"^2\")\n",
        "#End Main Program"
      ],
      "execution_count": 16,
      "outputs": [
        {
          "output_type": "stream",
          "text": [
            "กรุณากรอกค่ารัศมี ==> 4\n",
            " พื้นที่วงกลม =pi *r^2 \n",
            "50.26548245743669 = 3.141592653589793 4.0 ^2\n"
          ],
          "name": "stdout"
        }
      ]
    },
    {
      "metadata": {
        "id": "8bbhAVpGzA0k",
        "colab_type": "code",
        "colab": {
          "base_uri": "https://localhost:8080/",
          "height": 60
        },
        "outputId": "7feb7630-1c39-412a-880d-488f0643fdb6"
      },
      "cell_type": "code",
      "source": [
        "# K.ตา: ปอนด์ --> กิโลกรัม\n",
        "\n",
        "# Begin your code here\n",
        "def pound(kilograms):\n",
        "  '''\n",
        "  \n",
        "  '''\n",
        "  lb = kilograms/0.45359237\n",
        "  return lb\n",
        "\n",
        "\n",
        "\n",
        "if __name__ == \"__main__\":\n",
        "  pass\n",
        "  kilograms = input(\"Enter your volume(kg) : \")\n",
        "\n",
        "  # convert string to float\n",
        "  kilograms = float(kilograms)\n",
        "  pound = pound(kilograms)\n",
        "  print(pound, \"lb(s)\")\n",
        "# End your code here"
      ],
      "execution_count": 15,
      "outputs": [
        {
          "output_type": "stream",
          "text": [
            "Enter your volume(kg) : 78\n",
            "171.9605645042045 lb(s)\n"
          ],
          "name": "stdout"
        }
      ]
    },
    {
      "metadata": {
        "id": "h4MsmR1rzDYG",
        "colab_type": "code",
        "colab": {
          "base_uri": "https://localhost:8080/",
          "height": 60
        },
        "outputId": "e7cc0ea3-527c-4feb-b2bd-d9e2746c7557"
      },
      "cell_type": "code",
      "source": [
        "# K.ป้อม: ตัวเลข --> ผลบวกอนุกรม\n",
        "\n",
        "# ฟังก์ชันหาผลบวกของอนุกรมที่อยู่ในรูป   1+2+3+...+n  โดยที่ n เป็นจำนวนเต็มบวก\n",
        "# ซึ่งมีสูตรสำเร็จดังนี้\n",
        "#                            1+2+3+...+n = n(n+1)/2 \n",
        "# ข้อมูลเข้า : n\n",
        "# ข้อมูลออก : ค่าของผลบวก\n",
        "def findSum(n):\n",
        "  '''\n",
        "  '''\n",
        "  s=n*(n+1)/2\n",
        "  return s\n",
        "\n",
        "if __name__ == \"__main__\":\n",
        "  N =input(\"Enter a number (n): \")            #รับจำนวนเต็ม n จากแป้นพิมพ์\n",
        "  N =int(N);                                  #แปลงข้อมูลจาก string เป็น integer\n",
        "  sum =findSum(N);                            #เรียกใช้ฟังก์ชันเพื่อหาผลบวก\n",
        "  print(\"1+2+...+%d = %d\" % (N,sum));"
      ],
      "execution_count": 17,
      "outputs": [
        {
          "output_type": "stream",
          "text": [
            "Enter a number (n): 100\n",
            "1+2+...+100 = 5050\n"
          ],
          "name": "stdout"
        }
      ]
    },
    {
      "metadata": {
        "id": "RKyaT4sLzHoN",
        "colab_type": "code",
        "colab": {}
      },
      "cell_type": "code",
      "source": [
        "# K.พี: วัตต์ --> แรงม้า\n",
        "\n",
        "def kwtohp (kw):\n",
        "   hp = 1.34102209*kw\n",
        "   return hp\n",
        "\n",
        "hp = float(input(\"Enter kw: \"))\n",
        "hp = float(hp)\n",
        "\n",
        "if __name__ == '__main__':\n",
        "   watt_kw = ''\n",
        "   hp = kwtohp(hp)\n",
        "  \n",
        "   print(\"%.10f\"% hp)"
      ],
      "execution_count": 0,
      "outputs": []
    },
    {
      "metadata": {
        "id": "-XF4Cea0zN6c",
        "colab_type": "code",
        "colab": {
          "base_uri": "https://localhost:8080/",
          "height": 68
        },
        "outputId": "4bde832b-3c84-4891-c32b-c4dd73b8f7bf"
      },
      "cell_type": "code",
      "source": [
        "# K.ไอซ์: พื้นที่ของห้อง (กว้าง x ยาว) --> จำนวนคนที่รองรับได้\n",
        "\n",
        "def Hmn(wd,le) :\n",
        "  human = (wd*le)/.4\n",
        "  return human\n",
        "\n",
        "if __name__=='__main__':\n",
        "  wd = float(input(\"Enter wd: \"))\n",
        "  le = float(input(\"Enter le: \"))\n",
        "  human = Hmn(wd,le)\n",
        "  print(\"The number of human is %.0f units\" % human)"
      ],
      "execution_count": 18,
      "outputs": [
        {
          "output_type": "stream",
          "text": [
            "Enter wd: 10\n",
            "Enter le: 15\n",
            "The number of human is 375 units\n"
          ],
          "name": "stdout"
        }
      ]
    }
  ]
}