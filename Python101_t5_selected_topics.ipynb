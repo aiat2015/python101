{
  "nbformat": 4,
  "nbformat_minor": 0,
  "metadata": {
    "colab": {
      "name": "Python101_t5-selected-topics.ipynb",
      "version": "0.3.2",
      "provenance": [],
      "collapsed_sections": [],
      "include_colab_link": true
    },
    "kernelspec": {
      "name": "python3",
      "display_name": "Python 3"
    }
  },
  "cells": [
    {
      "cell_type": "markdown",
      "metadata": {
        "id": "view-in-github",
        "colab_type": "text"
      },
      "source": [
        "[View in Colaboratory](https://colab.research.google.com/github/tchayintr/python101/blob/master/Python101_t5_selected_topics.ipynb)"
      ]
    },
    {
      "metadata": {
        "id": "E27s793oYvcc",
        "colab_type": "text"
      },
      "cell_type": "markdown",
      "source": [
        "# **Python101: Tutorial 5 - Selected topics**\n",
        "***Tutorial 5 (T5)***\n"
      ]
    },
    {
      "metadata": {
        "id": "f7y-R2QkqPBp",
        "colab_type": "text"
      },
      "cell_type": "markdown",
      "source": [
        "# **T5: Meet Python Dictionary!**"
      ]
    },
    {
      "metadata": {
        "id": "zJWs_p-bbt7g",
        "colab_type": "code",
        "colab": {}
      },
      "cell_type": "code",
      "source": [
        "enth_dict = {}\n",
        "\n",
        "enth_dict['ant'] = \"มด\"\n",
        "enth_dict['python'] = \"งูเหลือม\"\n",
        "\n",
        "print(enth_dict)\n",
        "\n",
        "print(\"Ant แปลว่า\", enth_dict['ant'])"
      ],
      "execution_count": 0,
      "outputs": []
    },
    {
      "metadata": {
        "id": "Lineip-qZhF4",
        "colab_type": "text"
      },
      "cell_type": "markdown",
      "source": [
        "# **It's time to create your dictionary!!**\n",
        "\n"
      ]
    },
    {
      "metadata": {
        "id": "3IngmVMYZhTU",
        "colab_type": "code",
        "colab": {}
      },
      "cell_type": "code",
      "source": [
        "enth_dict = {}\n",
        "\n",
        "while(True):\n",
        "  word = input(\"Enter a word: \")\n",
        "  \n",
        "  if word.lower() == 'q':\n",
        "    break\n",
        "  else:\n",
        "    description = input(\"Enter a description for {}:\".format(word))\n",
        "  \n",
        "  enth_dict[word] = description\n",
        "\n",
        "print(enth_dict)\n",
        "\n",
        "for enth_word in enth_dict:\n",
        "  print(enth_word, \"แปลว่า\", enth_dict[enth_word])\n"
      ],
      "execution_count": 0,
      "outputs": []
    }
  ]
}