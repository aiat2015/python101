{
  "nbformat": 4,
  "nbformat_minor": 0,
  "metadata": {
    "colab": {
      "name": "Python101_e3-condition-and-loop-ans.ipynb",
      "version": "0.3.2",
      "provenance": [],
      "include_colab_link": true
    },
    "kernelspec": {
      "name": "python3",
      "display_name": "Python 3"
    }
  },
  "cells": [
    {
      "cell_type": "markdown",
      "metadata": {
        "id": "view-in-github",
        "colab_type": "text"
      },
      "source": [
        "[View in Colaboratory](https://colab.research.google.com/github/tchayintr/python101/blob/master/Python101_e3_condition_and_loop_ans.ipynb)"
      ]
    },
    {
      "metadata": {
        "id": "E27s793oYvcc",
        "colab_type": "text"
      },
      "cell_type": "markdown",
      "source": [
        "# **Python101: Exercise 3 - Condition and Loop**\n",
        "\n",
        "**E3.1: GPA calculation using conditions**\n",
        "\n",
        "GPA criteria: \n",
        "+ A: 90-100\n",
        "+ B: 80-89\n",
        "+ C: 70-79\n",
        "+ D: 60-69\n",
        "+ F: 0-59\n",
        "\n",
        "Note:\n",
        "+ รับคะแนนจากคีย์บอร์ด\n",
        "+ คิดเกรดด้วยฟังก์ชั่น gpa_calculator()\n",
        "+ คืนค่า gpa แล้วทำการแสดงผลของเกรดบนหน้าจอ"
      ]
    },
    {
      "metadata": {
        "id": "zJWs_p-bbt7g",
        "colab_type": "code",
        "colab": {
          "base_uri": "https://localhost:8080/",
          "height": 54
        },
        "outputId": "6e127f63-da0e-47f3-c883-18732da522ce"
      },
      "cell_type": "code",
      "source": [
        "# Begin your code here\n",
        "def gpa_calculator(score):\n",
        "  if score >= 90:\n",
        "    gpa = 'A'\n",
        "  elif score >= 80:\n",
        "    gpa = 'B'\n",
        "  elif score >= 70:\n",
        "    gpa = 'C'\n",
        "  elif score >= 60:\n",
        "    gpa = 'D'\n",
        "  else:\n",
        "    gpa = 'F'\n",
        "  \n",
        "  return gpa\n",
        "\n",
        "if __name__ == '__main__':\n",
        "  score = int(input(\"Enter score: \"))\n",
        "  \n",
        "  gpa = gpa_calculator(score)\n",
        "  print(\"GPA:\", gpa)\n",
        "\n",
        "# End your code here"
      ],
      "execution_count": 0,
      "outputs": [
        {
          "output_type": "stream",
          "text": [
            "Enter score: 59\n",
            "GPA: F\n"
          ],
          "name": "stdout"
        }
      ]
    },
    {
      "metadata": {
        "id": "qWP_hry03LOH",
        "colab_type": "text"
      },
      "cell_type": "markdown",
      "source": [
        "**E3.2: Printing \"Python101\" up to n time **\n",
        "\n",
        "ทำการแสดงผลคำว่า \"Python101\" บนหน้าจอ จำนวน n ครั้ง\n",
        "\n",
        "Note:\n",
        "+ รับค่า n จากคีย์บอร์ด"
      ]
    },
    {
      "metadata": {
        "id": "IVgb0EBk3JUX",
        "colab_type": "code",
        "colab": {}
      },
      "cell_type": "code",
      "source": [
        "if __name__ : \"__main__\":\n",
        "    pass"
      ],
      "execution_count": 0,
      "outputs": []
    },
    {
      "metadata": {
        "id": "4XnMnxXybhgR",
        "colab_type": "text"
      },
      "cell_type": "markdown",
      "source": [
        "**E3.3: Guessing game: Let's guess a number!!***\n",
        "\n",
        "เดาตัวเลขที่อยู่ระหว่าง 0 - 10 ที่ถูกสุ่มขึ้นมาจาก ***rand_number = random.randint(0,10) ***\n",
        "\n",
        "Note:\n",
        "+ รับตัวเลขจากคีย์บอร์ด\n",
        "+ ถ้าตัวเลขที่รับจากคีย์บอร์ดมีค่า**น้อยกว่า**ค่าที่สุ่มขึ้นมา ให้โปรแกรมตอบว่า ตัวเลขมีค่าน้อยเกินไป และให้รับตัวเลขใหม่อีกครั้ง\n",
        "+ ถ้าตัวเลขที่รับจากคีย์บอร์ดมีค่า**มากกว่า**ค่าที่สุ่มขึ้นมา ให้โปรแกรมตอบว่า ตัวเลขมีค่ามากเกินไป และให้รับตัวเลขใหม่อีกครั้ง\n",
        "+ ทำซ้ำไปเรื่อยๆจนกว่าจะเดาถูก (break)"
      ]
    },
    {
      "metadata": {
        "id": "Ws4PJGp6YzpX",
        "colab_type": "code",
        "colab": {
          "base_uri": "https://localhost:8080/",
          "height": 54
        },
        "outputId": "3d6a5be3-1459-4c7f-bb61-4b0285cff935"
      },
      "cell_type": "code",
      "source": [
        "import random\n",
        "\n",
        "rand_number = random.randint(0,10)\n",
        "#print(rand_number)\n",
        "\n",
        "while(True):\n",
        "  user_guess = int(input(\"Make a guess: \"))\n",
        "\n",
        "  if user_guess < rand_number:\n",
        "    print(user_guess, \"is too less.\")\n",
        "  elif user_guess > rand_number:\n",
        "    print(user_guess, \"is too much.\")\n",
        "  else:\n",
        "    print(user_guess, \"is CORRECT!!\")\n",
        "    break"
      ],
      "execution_count": 0,
      "outputs": [
        {
          "output_type": "stream",
          "text": [
            "Enter a number: 5\n",
            "Factorial(5) is 120.\n"
          ],
          "name": "stdout"
        }
      ]
    }
  ]
}